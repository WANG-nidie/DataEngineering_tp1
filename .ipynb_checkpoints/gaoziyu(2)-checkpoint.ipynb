{
 "cells": [
  {
   "cell_type": "markdown",
   "metadata": {},
   "source": [
    "# 输入文件名称"
   ]
  },
  {
   "cell_type": "code",
   "execution_count": 1,
   "metadata": {},
   "outputs": [
    {
     "name": "stdout",
     "output_type": "stream",
     "text": [
      "请把三个文件放到C:\\Users\\Lenovo\\Desktop路径下\n",
      "\n",
      "依次输入三个对比文件名称（输入一个后回车）\n",
      "对比实验1\n",
      "对比实验2\n",
      "对比实验3\n"
     ]
    }
   ],
   "source": [
    "import os\n",
    "\n",
    "mulu = os.getcwd()\n",
    "print(\"请把三个文件放到\"+ mulu +\"路径下\\n\")\n",
    "print(\"依次输入三个对比文件名称（输入一个后回车）\")\n",
    "\n",
    "f1 = input()\n",
    "f2 = input()\n",
    "f3 = input()\n",
    "\n",
    "F1 = f1 + \".xls\"\n",
    "F2 = f2 + \".xls\"\n",
    "F3 = f3 + \".xls\""
   ]
  },
  {
   "cell_type": "markdown",
   "metadata": {},
   "source": [
    "# 对比上课时长"
   ]
  },
  {
   "cell_type": "code",
   "execution_count": 42,
   "metadata": {},
   "outputs": [
    {
     "name": "stdout",
     "output_type": "stream",
     "text": [
      "前两个表课时相同的有2个人，名单为:\n",
      "['王姝', '柴世杰']\n",
      "前两个表课时不同的有2个人，名单为:\n",
      "['大潘', '汪冯']\n"
     ]
    }
   ],
   "source": [
    "import operator\n",
    "import pandas as pd\n",
    "import numpy as np\n",
    "from pandas.core.frame import DataFrame\n",
    "\n",
    "df = pd.read_excel(F1)\n",
    "df1 = pd.read_excel(F2)\n",
    "df2 = pd.read_excel(F3)\n",
    "\n",
    "df_com1 = pd.DataFrame([], columns=['姓名','身份证号码'])\n",
    "df_com2 = pd.DataFrame([], columns=['姓名','身份证号码'])\n",
    "df_com3 = pd.DataFrame([], columns=['姓名','身份证号码'])\n",
    "\n",
    "\n",
    "count = 0\n",
    "count1 = 0\n",
    "lis = []\n",
    "lis_diff = []\n",
    "lis_name = []\n",
    "lis_namediff = []\n",
    "for i in range(0,df.iloc[:,0].size):\n",
    "    for j in range(0,df1.iloc[:,0].size):\n",
    "        if df[\"身份证号码\"][i] == df1[\"身份证号码\"][j] and df[\"姓名\"][i] == df1[\"姓名\"][j]:\n",
    "            if operator.eq(int(df[\"学习总课时\"][i]),int(df1[\"学习总课时\"][j])) == True:\n",
    "                count += 1\n",
    "                lis.append(df[\"身份证号码\"][i])\n",
    "                lis_name.append(df[\"姓名\"][i])\n",
    "            else:\n",
    "                count1 += 1\n",
    "                lis_diff.append(df[\"身份证号码\"][i])\n",
    "                lis_namediff.append(df[\"姓名\"][i])\n",
    "print(\"前两个表课时相同的有\"+str(count)+\"个人，名单为:\")\n",
    "print(lis_name)\n",
    "print(\"前两个表课时不同的有\"+str(count1)+\"个人，名单为:\")\n",
    "print(lis_namediff)"
   ]
  },
  {
   "cell_type": "markdown",
   "metadata": {},
   "source": [
    "# 对比姓名"
   ]
  },
  {
   "cell_type": "code",
   "execution_count": 43,
   "metadata": {},
   "outputs": [
    {
     "name": "stdout",
     "output_type": "stream",
     "text": [
      "表1和3姓名不同的有:\n",
      "王五\n",
      "李桐\n",
      "梁丹\n",
      "张庆岷\n",
      "魏立叶\n",
      "任燕\n"
     ]
    }
   ],
   "source": [
    "lis1 = []\n",
    "lis2 = []\n",
    "lis3 = []\n",
    "\n",
    "func1 = lambda x:lis1.append(x)\n",
    "func2 = lambda x:lis2.append(x)\n",
    "func3 = lambda x:lis3.append(x)\n",
    "\n",
    "df[\"身份证号码\"].apply(func1)\n",
    "df1[\"身份证号码\"].apply(func2)\n",
    "df2[\"身份证号码\"].apply(func3)\n",
    "\n",
    "lis1_3_diff = []\n",
    "lis1_3_name = []\n",
    "print(\"表1和3姓名不同的有:\")\n",
    "\n",
    "for n,i in enumerate(lis1,0):\n",
    "    if i not in lis3:     \n",
    "        lis1_3_name.append(df[\"姓名\"][n])\n",
    "        print(df[\"姓名\"][n])\n",
    "        lis1_3_diff.append(i)\n",
    "\n",
    "for n,i in enumerate(lis3,0):\n",
    "    if i not in lis1:\n",
    "        lis1_3_name.append(df2[\"姓名\"][n])\n",
    "        print(df2[\"姓名\"][n])\n",
    "        lis1_3_diff.append(i) "
   ]
  },
  {
   "cell_type": "code",
   "execution_count": 44,
   "metadata": {},
   "outputs": [
    {
     "name": "stdout",
     "output_type": "stream",
     "text": [
      "表2和3姓名不同的有:\n",
      "李四\n",
      "陈琪\n",
      "潘灵历\n",
      "李桐\n",
      "梁丹\n",
      "张庆岷\n",
      "魏立叶\n",
      "任燕\n",
      "赵柳\n"
     ]
    }
   ],
   "source": [
    "lis2_3_diff = []\n",
    "lis2_3_name = []\n",
    "\n",
    "print(\"表2和3姓名不同的有:\")\n",
    "\n",
    "for n,i in enumerate(lis2,0):\n",
    "    if i not in lis3:\n",
    "        lis2_3_name.append(df1[\"姓名\"][n])\n",
    "        print(df1[\"姓名\"][n])\n",
    "        lis2_3_diff.append(i)\n",
    "\n",
    "for n,i in enumerate(lis3,0):\n",
    "    if i not in lis2:\n",
    "        lis2_3_name.append(df2[\"姓名\"][n])\n",
    "        print(df2[\"姓名\"][n])\n",
    "        lis2_3_diff.append(i) "
   ]
  },
  {
   "cell_type": "markdown",
   "metadata": {},
   "source": [
    "# 存到excel(依次输入三份名单名称)"
   ]
  },
  {
   "cell_type": "code",
   "execution_count": 45,
   "metadata": {},
   "outputs": [
    {
     "name": "stdout",
     "output_type": "stream",
     "text": [
      "1\n",
      "2\n",
      "3\n"
     ]
    }
   ],
   "source": [
    "n1 = input()\n",
    "n2 = input()\n",
    "n3 = input()\n",
    "\n",
    "compare1 = {\"姓名\" : lis_namediff,\n",
    "          \"身份证号码\" : lis_diff}\n",
    "compare2 = {\"姓名\" : lis1_3_diff,\n",
    "          \"身份证号码\" : lis1_3_name}\n",
    "compare3 = {\"姓名\" : lis2_3_name,\n",
    "          \"身份证号码\" : lis2_3_diff}\n",
    "\n",
    "df_1 =  DataFrame(compare1)\n",
    "df_2 =  DataFrame(compare2)\n",
    "df_3 =  DataFrame(compare3)\n",
    "\n",
    "df_1.to_excel(n1 + \".xlsx\", index=True)\n",
    "df_2.to_excel(n2 + \".xlsx\", index=True)\n",
    "df_3.to_excel(n3 + \".xlsx\", index=True)"
   ]
  }
 ],
 "metadata": {
  "kernelspec": {
   "display_name": "Python 3",
   "language": "python",
   "name": "python3"
  },
  "language_info": {
   "codemirror_mode": {
    "name": "ipython",
    "version": 3
   },
   "file_extension": ".py",
   "mimetype": "text/x-python",
   "name": "python",
   "nbconvert_exporter": "python",
   "pygments_lexer": "ipython3",
   "version": "3.8.3"
  }
 },
 "nbformat": 4,
 "nbformat_minor": 4
}
